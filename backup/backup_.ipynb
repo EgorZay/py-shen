{
 "cells": [
  {
   "cell_type": "markdown",
   "metadata": {},
   "source": [
    "# # .py basic backup"
   ]
  },
  {
   "cell_type": "markdown",
   "metadata": {},
   "source": [
    "This is to provide a user with backups.\n",
    "\n",
    "Script is single-sided and path-walking so it only affects files within the given directory.\n",
    "\n",
    "No external libraries are required."
   ]
  },
  {
   "cell_type": "code",
   "execution_count": null,
   "metadata": {
    "collapsed": false
   },
   "outputs": [],
   "source": [
    "# libraries init\n",
    "import zipfile, os, time\n",
    "\n",
    "# user's input\n",
    "# if anyone could bring up a solution to omit quotes during input, that would be great\n",
    "name = str(input('Define name of zip in quotes: ')) + '.zip'\n",
    "direc = str(input('Define source directory in quotes: '))\n",
    "\n",
    "# path-walking function to run the directory over. 'zip handle' is file container\n",
    "def zipdir(path, ziph):\n",
    "    # ziph = zip handle\n",
    "    for root, dirs, files in os.walk(path):\n",
    "        for file in files:\n",
    "            ziph.write(os.path.join(root, file))"
   ]
  },
  {
   "cell_type": "markdown",
   "metadata": {},
   "source": [
    "Above we define a custom function 'zipdir' with two variables: 'path' and 'ziph'.\n",
    "\n",
    "Later we implement os.walk() function to 'path' to store the strings with inner directories and files.\n",
    "Here a basic example:"
   ]
  },
  {
   "cell_type": "code",
   "execution_count": null,
   "metadata": {
    "collapsed": false,
    "scrolled": true
   },
   "outputs": [],
   "source": [
    "import os\n",
    "for root, dirs, files in os.walk(\"/home/mycom/Pictures/\", topdown=False):\n",
    "    # \".\" is to proceed to default user folder\n",
    "    for name in files:\n",
    "        print(os.path.join(root, name))\n",
    "    for name in dirs:\n",
    "        print(os.path.join(root, name))\n",
    "        \n",
    "# Which provides with path strings to subfolders and files\n",
    "# To something like that\n",
    "\n",
    "# /home/mycom/Pictures/Screenshot from 2016-12-31 06-52-44.png\n",
    "# /home/mycom/Pictures/test.jpeg\n",
    "# /home/mycom/Pictures/test.png"
   ]
  },
  {
   "cell_type": "markdown",
   "metadata": {},
   "source": [
    "Ok, the last thing to do is to create a .zip containing every path string (actual subfolders and files):"
   ]
  },
  {
   "cell_type": "code",
   "execution_count": null,
   "metadata": {
    "collapsed": false
   },
   "outputs": [],
   "source": [
    "# create final .zip\n",
    "if __name__ == '__main__':\n",
    "    # basically, code string above may be omitted\n",
    "    zipf = zipfile.ZipFile(name, 'w', zipfile.ZIP_DEFLATED)\n",
    "    zipdir(path=direc, ziph=zipf)\n",
    "    zipf.close()"
   ]
  },
  {
   "cell_type": "markdown",
   "metadata": {},
   "source": [
    "'zipf' is our .zip to which we address path strings utilizing 'w' operand.\n",
    "\n",
    "Then, by using 'zipdir' function we combine path strings with zip handle to create a complete backup.\n",
    "\n",
    "So far, so good."
   ]
  }
 ],
 "metadata": {},
 "nbformat": 4,
 "nbformat_minor": 2
}
